{
  "nbformat": 4,
  "nbformat_minor": 0,
  "metadata": {
    "colab": {
      "name": "Fib",
      "provenance": [],
      "collapsed_sections": []
    },
    "kernelspec": {
      "name": "python3",
      "display_name": "Python 3"
    },
    "language_info": {
      "name": "python"
    }
  },
  "cells": [
    {
      "cell_type": "markdown",
      "source": [
        "Fibonacchi"
      ],
      "metadata": {
        "id": "PfquWVVHH-4Q"
      }
    },
    {
      "cell_type": "code",
      "source": [
        "A = [1,2,3,4,5,6,7,8]\n",
        "A[0] = 55\n",
        "print(A)"
      ],
      "metadata": {
        "colab": {
          "base_uri": "https://localhost:8080/"
        },
        "id": "LlAbZQZOJJ73",
        "outputId": "c9ae76c1-cad6-4990-bb06-8874c0dbe275"
      },
      "execution_count": null,
      "outputs": [
        {
          "output_type": "stream",
          "name": "stdout",
          "text": [
            "[55, 2, 3, 4, 5, 6, 7, 8]\n"
          ]
        }
      ]
    },
    {
      "cell_type": "code",
      "source": [
        "def fib(n):\n",
        "    # put your code here\n",
        "    a = 0\n",
        "    b = 1\n",
        "    for __ in range(n):\n",
        "        a, b = b, a + b\n",
        "    return a\n",
        "\n",
        "\n",
        "def main():\n",
        "    n = int(input())\n",
        "    print(fib(n))\n",
        "\n",
        "\n",
        "if __name__ == \"__main__\":\n",
        "    main()"
      ],
      "metadata": {
        "id": "IBwgLO7zuEwx",
        "colab": {
          "base_uri": "https://localhost:8080/"
        },
        "outputId": "fcf854e0-94fd-41c5-b748-da36d24f0f43"
      },
      "execution_count": null,
      "outputs": [
        {
          "output_type": "stream",
          "name": "stdout",
          "text": [
            "4\n",
            "3\n"
          ]
        }
      ]
    },
    {
      "cell_type": "code",
      "source": [
        "#Последняя буква\n",
        "def fib_digit(n):\n",
        "    a = 0\n",
        "    b = 1\n",
        "    for __ in range(n):\n",
        "        a, b = b, a % 10 + b % 10\n",
        "    return a % 10\n",
        "\n",
        "\n",
        "def main():\n",
        "    n = int(input())\n",
        "    print(fib_digit(n))\n",
        "\n",
        "\n",
        "if __name__ == \"__main__\":\n",
        "    main()"
      ],
      "metadata": {
        "id": "4xe4vpzKHGv8",
        "colab": {
          "base_uri": "https://localhost:8080/"
        },
        "outputId": "3ca50f3c-1bc4-4281-98a4-3faec015ca18"
      },
      "execution_count": null,
      "outputs": [
        {
          "output_type": "stream",
          "name": "stdout",
          "text": [
            "20\n",
            "5\n"
          ]
        }
      ]
    },
    {
      "cell_type": "code",
      "source": [
        "#Остаток от деления\n",
        "def fib_mod(n, m):\n",
        "    a = 0\n",
        "    b = 1\n",
        "    for __ in range(n):\n",
        "        a, b = b, (a + b) % m\n",
        "    return a\n",
        "\n",
        "\n",
        "def main():\n",
        "    n, m = map(int, input().split())\n",
        "    print(fib_mod(n, m))\n",
        "\n",
        "\n",
        "if __name__ == \"__main__\":\n",
        "    main()"
      ],
      "metadata": {
        "colab": {
          "base_uri": "https://localhost:8080/"
        },
        "id": "Q8gfaiJNPjGO",
        "outputId": "d0ab8a25-2fef-4180-9510-9f372629c10a"
      },
      "execution_count": null,
      "outputs": [
        {
          "output_type": "stream",
          "name": "stdout",
          "text": [
            "20 14\n",
            "3\n"
          ]
        }
      ]
    },
    {
      "cell_type": "code",
      "source": [
        ""
      ],
      "metadata": {
        "id": "2quIu7ORT_Wk"
      },
      "execution_count": null,
      "outputs": []
    }
  ]
}